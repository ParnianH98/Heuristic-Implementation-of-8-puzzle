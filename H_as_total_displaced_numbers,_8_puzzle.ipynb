{
  "nbformat": 4,
  "nbformat_minor": 0,
  "metadata": {
    "colab": {
      "name": "H as total displaced numbers, 8-puzzle.ipynb",
      "provenance": [],
      "collapsed_sections": [],
      "include_colab_link": true
    },
    "kernelspec": {
      "name": "python3",
      "display_name": "Python 3"
    },
    "language_info": {
      "name": "python"
    }
  },
  "cells": [
    {
      "cell_type": "markdown",
      "metadata": {
        "id": "view-in-github",
        "colab_type": "text"
      },
      "source": [
        "<a href=\"https://colab.research.google.com/github/ParnianH98/Heuristic-Implementation-of-8-puzzle/blob/main/H_as_total_displaced_numbers%2C_8_puzzle.ipynb\" target=\"_parent\"><img src=\"https://colab.research.google.com/assets/colab-badge.svg\" alt=\"Open In Colab\"/></a>"
      ]
    },
    {
      "cell_type": "code",
      "metadata": {
        "id": "OkmwCtadZLPJ"
      },
      "source": [
        "import numpy as np\n",
        "N = 3"
      ],
      "execution_count": null,
      "outputs": []
    },
    {
      "cell_type": "markdown",
      "metadata": {
        "id": "RNrFnqIiVByZ"
      },
      "source": [
        "input arbitrary puzzle using 0 instead of empty blanck"
      ]
    },
    {
      "cell_type": "code",
      "metadata": {
        "id": "LIpvBNyKUrAz",
        "colab": {
          "base_uri": "https://localhost:8080/"
        },
        "outputId": "f116793e-b06e-4a37-9db4-78d9beb2e281"
      },
      "source": [
        "arbitrary = []\n",
        "while len(arbitrary) < 9:\n",
        "  n = int(input(\"Enter:\"))\n",
        "  if (n in range(0,9)) and (n not in arbitrary):\n",
        "    arbitrary.append(n)\n",
        "  else:\n",
        "    \n",
        "    print(\"input 9 integers 0 to 8\")\n",
        "\n",
        "arbitrary = np.array(arbitrary)\n",
        "puzzle = np.reshape(arbitrary,(3,3))\n",
        "print(puzzle)\n",
        "  "
      ],
      "execution_count": null,
      "outputs": [
        {
          "output_type": "stream",
          "text": [
            "Enter:1\n",
            "Enter:2\n",
            "Enter:3\n",
            "Enter:0\n",
            "Enter:4\n",
            "Enter:6\n",
            "Enter:7\n",
            "Enter:5\n",
            "Enter:8\n",
            "[[1 2 3]\n",
            " [0 4 6]\n",
            " [7 5 8]]\n"
          ],
          "name": "stdout"
        }
      ]
    },
    {
      "cell_type": "markdown",
      "metadata": {
        "id": "Sb_GN9kYcRRM"
      },
      "source": [
        "# **implement h1**"
      ]
    },
    {
      "cell_type": "markdown",
      "metadata": {
        "id": "AcDZEJInmfR4"
      },
      "source": [
        "isSolvable"
      ]
    },
    {
      "cell_type": "code",
      "metadata": {
        "id": "GX9wPRKrmh0G"
      },
      "source": [
        "def isSolvable(arbitrary):\n",
        "  invCount = 0\n",
        "  for i in range(8):\n",
        "    for j in range(i+1,9):\n",
        "      if (arbitrary[j]>arbitrary[i]) and (arbitrary[i]!=0):\n",
        "        invCount+=1\n",
        "\n",
        "  return (invCount%2 == 0)"
      ],
      "execution_count": null,
      "outputs": []
    },
    {
      "cell_type": "markdown",
      "metadata": {
        "id": "wglIZnCRhO00"
      },
      "source": [
        "computing number of dearangements"
      ]
    },
    {
      "cell_type": "code",
      "metadata": {
        "id": "bAUihczUX6wz"
      },
      "source": [
        "def DarrangeNum(LIST):\n",
        "  n = 0\n",
        "  for i in range(9):\n",
        "    a = LIST[i]\n",
        "    if (a != 0)and (a != i+1):\n",
        "      n+=1\n",
        "  return n"
      ],
      "execution_count": null,
      "outputs": []
    },
    {
      "cell_type": "markdown",
      "metadata": {
        "id": "_1wWjKcpvuys"
      },
      "source": [
        "returning four neighbours of a cell in the world :)"
      ]
    },
    {
      "cell_type": "code",
      "metadata": {
        "id": "xCrGniWalWNJ"
      },
      "source": [
        "def FindingStates(x,y):\n",
        "\n",
        "  p1 = [x,y-1]\n",
        "  p2 = [x,y+1]\n",
        "  p3 = [x-1,y]\n",
        "  p4 = [x+1,y]\n",
        "  return [p1,p2,p3,p4]\n",
        "\n"
      ],
      "execution_count": null,
      "outputs": []
    },
    {
      "cell_type": "markdown",
      "metadata": {
        "id": "iLxt6W9gv5pn"
      },
      "source": [
        "returning possible neighbours of a cell in the puzzle"
      ]
    },
    {
      "cell_type": "code",
      "metadata": {
        "id": "sJYSvPNesdUh"
      },
      "source": [
        "def FindingPossibleStates(x,y,xforbid, yforbid):\n",
        "  states = FindingStates(x,y)\n",
        "\n",
        "  i=0\n",
        "  while i<len(states):\n",
        "    p = states[i]\n",
        "    a = p[0]\n",
        "    b = p[1]\n",
        "\n",
        "    if (a < 0) or (a > N-1) or (b < 0) or (b > N-1) or (a == xforbid and b == yforbid):\n",
        "      states.remove(p)\n",
        "      i-=1\n",
        "    i+=1\n",
        "  return states\n"
      ],
      "execution_count": null,
      "outputs": []
    },
    {
      "cell_type": "markdown",
      "metadata": {
        "id": "YIlELdKowDCU"
      },
      "source": [
        "finding the minimum neighbour"
      ]
    },
    {
      "cell_type": "code",
      "metadata": {
        "id": "puEagdKovsb3"
      },
      "source": [
        "def FindingNextState(x,y,xforbid, yforbid,):\n",
        "  states = FindingPossibleStates(x,y,xforbid, yforbid)\n",
        "  global arbitrary\n",
        "  global puzzle\n",
        "  DAmax = 8\n",
        "  FState = arbitrary.copy\n",
        "  a = -1 \n",
        "  b = -1 \n",
        "  aa = -1 \n",
        "  bb = -1\n",
        "\n",
        "  for i in range(len(states)):\n",
        "    p = states[i]\n",
        "    a = p[0]\n",
        "    b = p[1]\n",
        "    newState = puzzle.copy()\n",
        "    newState[x][y],newState[a][b] = newState[a][b], newState[x][y]\n",
        "    newState = np.reshape(newState,(1,9))\n",
        "\n",
        "    n = DarrangeNum(newState[0])\n",
        "    if (n <= DAmax):\n",
        "      DAmax = n\n",
        "      FState = newState\n",
        "      aa = a\n",
        "      bb = b\n",
        "\n",
        "  arbitrary = np.reshape(FState,(1,9))[0]\n",
        "  puzzle = np.reshape(arbitrary,(3,3))\n",
        "  print(puzzle)\n",
        "\n",
        "  ##### 0 is now in (a,b) and has just replaced from (x,y)\n",
        "  return [[aa,bb],[x,y]]\n"
      ],
      "execution_count": null,
      "outputs": []
    },
    {
      "cell_type": "code",
      "metadata": {
        "id": "7mvAq3m_4hsY",
        "colab": {
          "base_uri": "https://localhost:8080/"
        },
        "outputId": "d5620607-8090-499b-af85-e83afa2990b5"
      },
      "source": [
        "global puzzle\n",
        "global arbitrary\n",
        "if isSolvable(arbitrary):\n",
        "\n",
        "  #position of zero in the arbitrary\n",
        "  loc = np.where(arbitrary == 0)\n",
        "  loc = loc[0][0]\n",
        "\n",
        "  #location of zero in the puzzle\n",
        "  x = int(loc/3)\n",
        "  y = int(loc%3)\n",
        "\n",
        "  print(0)\n",
        "  print(puzzle)\n",
        "\n",
        "  xforbid = -1 \n",
        "  yforbid = -1\n",
        "  counter = 1\n",
        "  n = DarrangeNum(arbitrary)\n",
        "  while ( n > 0):\n",
        "    print(counter)\n",
        "    res = FindingNextState(x,y,xforbid, yforbid)\n",
        "    x = res[0][0]\n",
        "    y = res[0][1]\n",
        "    xforbid = res[1][0]\n",
        "    yforbid = res[1][1]\n",
        "    n = DarrangeNum(arbitrary)\n",
        "    counter+=1\n",
        "\n",
        "else:\n",
        "  print(\"not solvable!!\")\n"
      ],
      "execution_count": null,
      "outputs": [
        {
          "output_type": "stream",
          "text": [
            "0\n",
            "[[1 2 3]\n",
            " [0 4 6]\n",
            " [7 5 8]]\n",
            "1\n",
            "[[1 2 3]\n",
            " [4 0 6]\n",
            " [7 5 8]]\n",
            "2\n",
            "[[1 2 3]\n",
            " [4 5 6]\n",
            " [7 0 8]]\n",
            "3\n",
            "[[1 2 3]\n",
            " [4 5 6]\n",
            " [7 8 0]]\n"
          ],
          "name": "stdout"
        }
      ]
    }
  ]
}